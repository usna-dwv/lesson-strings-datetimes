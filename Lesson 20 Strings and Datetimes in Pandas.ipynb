{
 "cells": [
  {
   "cell_type": "markdown",
   "metadata": {},
   "source": [
    "**SA433 &#x25aa; Data Wrangling and Visualization &#x25aa; Fall 2024**"
   ]
  },
  {
   "cell_type": "markdown",
   "metadata": {},
   "source": [
    "# Lesson 20. Strings and Datetimes in Pandas"
   ]
  },
  {
   "cell_type": "markdown",
   "metadata": {},
   "source": [
    "## Overview"
   ]
  },
  {
   "cell_type": "markdown",
   "metadata": {},
   "source": [
    "- Strings and datetimes can be awkward to work with, especially compared to numeric values\n",
    "\n",
    "\n",
    "- In this lesson, we'll learn the basics of working with strings and datetimes in Pandas\n",
    "\n",
    "\n",
    "- As we'll see, there are *many* methods related to string and datetime processing\n",
    "\n",
    "\n",
    "- Consider this lesson just an introduction!"
   ]
  },
  {
   "cell_type": "markdown",
   "metadata": {},
   "source": [
    "<hr style=\"border-top: 2px solid gray; margin-top: 1px; margin-bottom: 1px\"></hr>"
   ]
  },
  {
   "cell_type": "markdown",
   "metadata": {
    "tags": []
   },
   "source": [
    "## The UFO dataset "
   ]
  },
  {
   "cell_type": "markdown",
   "metadata": {},
   "source": [
    "* Let's start by importing Pandas:"
   ]
  },
  {
   "cell_type": "code",
   "execution_count": null,
   "metadata": {},
   "outputs": [],
   "source": [
    "import pandas as pd"
   ]
  },
  {
   "cell_type": "markdown",
   "metadata": {},
   "source": [
    "- For this lesson, we'll use [this dataset on UFO sightings](http://bit.ly/uforeports), based on information from the [National UFO Reporting Center](http://www.nuforc.org/webreports.html)\n",
    "\n",
    "\n",
    "- This dataset is also included in `data/ufo.csv`, in the same folder as this notebook\n",
    "\n",
    "\n",
    "- Let's read the data into a DataFrame:"
   ]
  },
  {
   "cell_type": "code",
   "execution_count": null,
   "metadata": {},
   "outputs": [],
   "source": [
    "df = pd.read_csv('data/ufo.csv')"
   ]
  },
  {
   "cell_type": "markdown",
   "metadata": {},
   "source": [
    "* Let's peek at the first 5 rows:"
   ]
  },
  {
   "cell_type": "code",
   "execution_count": null,
   "metadata": {},
   "outputs": [],
   "source": [
    "df.head()"
   ]
  },
  {
   "cell_type": "markdown",
   "metadata": {},
   "source": [
    "- Let's also get some more information about the data types (dtypes) in this DataFrame:"
   ]
  },
  {
   "cell_type": "code",
   "execution_count": null,
   "metadata": {},
   "outputs": [],
   "source": [
    "df.info()"
   ]
  },
  {
   "cell_type": "markdown",
   "metadata": {},
   "source": [
    "<hr style=\"border-top: 2px solid gray; margin-top: 1px; margin-bottom: 1px\"></hr>"
   ]
  },
  {
   "cell_type": "markdown",
   "metadata": {},
   "source": [
    "## Working with strings"
   ]
  },
  {
   "cell_type": "markdown",
   "metadata": {},
   "source": [
    "- The Series object is equipped with a set of **string methods** that perform string processing operations on the entire Series at once\n",
    "\n",
    "\n",
    "- These methods also conveniently exclude missing values automatically, unlike their counterparts in the Python standard library\n",
    "\n",
    "\n",
    "- You can access these methods with the `.str` attribute\n",
    "\n",
    "\n",
    "- For example, `.str.lower()` converts strings to lowercase, like this:"
   ]
  },
  {
   "cell_type": "code",
   "execution_count": null,
   "metadata": {},
   "outputs": [],
   "source": []
  },
  {
   "cell_type": "markdown",
   "metadata": {},
   "source": [
    "- Note that you can use string methods in `.query()`, like this:"
   ]
  },
  {
   "cell_type": "code",
   "execution_count": null,
   "metadata": {},
   "outputs": [],
   "source": []
  },
  {
   "cell_type": "markdown",
   "metadata": {},
   "source": [
    "- Note that this kind of query might help if your data contains values with inconsistent capitalization"
   ]
  },
  {
   "cell_type": "markdown",
   "metadata": {},
   "source": [
    "- You may recall that we've already seen a few other examples of Series string methods, like `.str.split()` and `.str.cat()`"
   ]
  },
  {
   "cell_type": "markdown",
   "metadata": {},
   "source": [
    "- Here are some string methods that you might find particularly useful:\n",
    "\n",
    "| `.str` method | Description |\n",
    "| :- | :- |\n",
    "| `.cat()` | Concatenate strings |\n",
    "| `.split()` | Split strings on delimiter |\n",
    "| `.contains()` | Return boolean array if each string contains pattern/regex |\n",
    "| `.replace()` | Replace occurrences of pattern/regex/string with some other string or the return value of a callable given the occurrence |\n",
    "| `.pad()` | Add whitespace to left, right, or both sides of strings |\n",
    "| `.slice()` | Slice each string in the Series |\n",
    "| `.slice_replace()` | Replace slice in each string with passed value |\n",
    "| `.count()` | Count occurrences of pattern |\n",
    "| `.startswith()` | Test if the start of each string element matches a pattern |\n",
    "| `.endswith()` | Test if the end of each string element matches a pattern |\n",
    "| `.len()` | Compute string lengths |\n",
    "| `.strip()` | Strip whitespaces from left and right sides |\n",
    "| `.partition()` | Split the string at the first occurrence of a substring |\n",
    "| `.lower()` | Convert strings to lowercase |\n",
    "| `.upper()` | Convert strings to uppercase |\n",
    "| `.title()` | Convert strings to title case |\n",
    "| `.find()` | Find substring within string |"
   ]
  },
  {
   "cell_type": "markdown",
   "metadata": {},
   "source": [
    "- Note that this list is incomplete, and doesn't tell you how these methods work... (e.g. what arguments do they take?)\n",
    "\n",
    "\n",
    "- For more information, [here is the section on Series string methods](https://pandas.pydata.org/pandas-docs/stable/reference/series.html#api-series-str) in the Pandas documentation"
   ]
  },
  {
   "cell_type": "markdown",
   "metadata": {},
   "source": [
    "- Some of the documentation make references to a **regular expression** or **regex**\n",
    "    - These are specially constructed sequences of characters that define a search\n",
    "    - Regexes can be very useful... and somewhat complicated to use\n",
    "    - There are *many* resources on the internet for learning about regexes\n",
    "    - For example, [here is a nice tool](https://regexr.com/) to learn and test regular expressions"
   ]
  },
  {
   "cell_type": "markdown",
   "metadata": {},
   "source": [
    "<hr style=\"border-top: 2px solid gray; margin-top: 1px; margin-bottom: 1px\"></hr>"
   ]
  },
  {
   "cell_type": "markdown",
   "metadata": {},
   "source": [
    "## Working with datetimes"
   ]
  },
  {
   "cell_type": "markdown",
   "metadata": {},
   "source": [
    "- Note that our UFO dataset contains a column `Time` with the date and time (*datetime*) of the sighting:"
   ]
  },
  {
   "cell_type": "code",
   "execution_count": null,
   "metadata": {},
   "outputs": [],
   "source": [
    "df.head()"
   ]
  },
  {
   "cell_type": "markdown",
   "metadata": {},
   "source": [
    "- Above, when we used `df.info()`, we saw that the column `Time` consists of strings"
   ]
  },
  {
   "cell_type": "markdown",
   "metadata": {},
   "source": [
    "- Keeping the date and time information as a string is inconvenient &mdash; for example:\n",
    "    - We can't easily group by datetime components, like month or hour\n",
    "    - We can't easily perform datetime arithmetic (e.g. add a day to each datetime)"
   ]
  },
  {
   "cell_type": "markdown",
   "metadata": {},
   "source": [
    "- One way to resolve this would be to use string methods\n",
    "\n",
    "\n",
    "- For example, we can use `.str.split()` to tease out the different components of the column `Time`, like this:"
   ]
  },
  {
   "cell_type": "code",
   "execution_count": null,
   "metadata": {},
   "outputs": [],
   "source": []
  },
  {
   "cell_type": "markdown",
   "metadata": {},
   "source": [
    "- An arguably better alternative would be to use `pd.to_datetime()` to convert a column with well-formatted strings to the **datetime64** dtype\n",
    "\n",
    "\n",
    "- Pandas has a variety of built-in tools to manipulate dates and times represented with the datetime64 dtype\n",
    "    \n",
    "\n",
    "- Back to our example: we can convert the column `Time` to datetime64 with `pd.to_datetime()` by specifying the format of the dates and times in `Time`:"
   ]
  },
  {
   "cell_type": "code",
   "execution_count": null,
   "metadata": {},
   "outputs": [],
   "source": []
  },
  {
   "cell_type": "markdown",
   "metadata": {},
   "source": [
    "- We can use `.info()` to confirm that the `datetime` column does indeed contain datetime64 values:"
   ]
  },
  {
   "cell_type": "code",
   "execution_count": null,
   "metadata": {},
   "outputs": [],
   "source": [
    "new_df.info()"
   ]
  },
  {
   "cell_type": "markdown",
   "metadata": {},
   "source": [
    "- The `format=...` keyword argument takes a string with standard C datetime format codes as placeholders for datetime components such as year, month day, etc.\n",
    "    - [Here is a list of standard C datetime format codes](https://docs.python.org/3/library/datetime.html#strftime-and-strptime-format-codes) from the Python documentation"
   ]
  },
  {
   "cell_type": "markdown",
   "metadata": {},
   "source": [
    "- The Series object has a variety of attributes and methods to work with datetime dtypes\n",
    "\n",
    "\n",
    "- We access these attributes and methods with the `.dt` attribute\n",
    "\n",
    "\n",
    "- For example, we can get the month of each date in `datetime` like this:"
   ]
  },
  {
   "cell_type": "code",
   "execution_count": null,
   "metadata": {},
   "outputs": [],
   "source": []
  },
  {
   "cell_type": "markdown",
   "metadata": {},
   "source": [
    "- Here are some useful datetime attributes:\n",
    "\n",
    "| `.dt` attribute | Description |\n",
    "| :- | :- |\n",
    "| `.year` | The year of the datetime |\n",
    "| `.month` | The month as January=1, ..., December=12 |\n",
    "| `.day` | The day of the datetime |\n",
    "| `.hour` | The hours of the datetime |\n",
    "| `.minute` | The minutes of the datetime |\n",
    "| `.second` | The seconds of the datetime |\n",
    "| `.microsecond` | The microseconds of the datetime |\n",
    "| `.nanosecond` | The nanoseconds of the datetime |\n",
    "| `.dayofweek` | The day of the week with Monday=0, Sunday=6 |"
   ]
  },
  {
   "cell_type": "markdown",
   "metadata": {},
   "source": [
    "- For more information, [here is the section on datetime attributes and methods](https://pandas.pydata.org/pandas-docs/stable/reference/series.html#api-series-dt) in the Pandas documentation \n",
    "\n",
    "\n",
    "- In addition, [here is the documentation for `pd.to_datetime()`](https://pandas.pydata.org/pandas-docs/stable/reference/api/pandas.to_datetime.html)\n",
    "\n",
    "\n",
    "- As you can see, there are many ways to convert datetime information into the datetime dtype\n",
    "\n",
    "\n",
    "- For example, we could have taken the year-month-day-hour-minute information we parsed manually with string methods and passed those to `pd.to_datetime()` like this:"
   ]
  },
  {
   "cell_type": "code",
   "execution_count": null,
   "metadata": {},
   "outputs": [],
   "source": [
    "(\n",
    "    df\n",
    "    .assign(\n",
    "        MMDDYYYY=lambda x: x['Time'].str.split(expand=True)[0],\n",
    "        HHMM=lambda x: x['Time'].str.split(expand=True)[1],\n",
    "        month=lambda x: x['MMDDYYYY'].str.split(pat='/', expand=True)[0],\n",
    "        day=lambda x: x['MMDDYYYY'].str.split(pat='/', expand=True)[1],\n",
    "        year=lambda x: x['MMDDYYYY'].str.split(pat='/', expand=True)[2],\n",
    "        hour=lambda x: x['HHMM'].str.split(pat=':', expand=True)[0],\n",
    "        minute=lambda x: x['HHMM'].str.split(pat=':', expand=True)[1],\n",
    "        \n",
    "        # We can pass a DataFrame with columns corresponding to \n",
    "        # year, month, day, hour, and minute into pd.to_datetime()\n",
    "        datetime=lambda x: pd.to_datetime(x[['year', 'month', 'day', 'hour', 'minute']])\n",
    "    )\n",
    ")"
   ]
  },
  {
   "cell_type": "markdown",
   "metadata": {},
   "source": [
    "- We can also perform arithmetic on datetime64 dtypes with the **timedelta64** dtype\n",
    "\n",
    "\n",
    "- Timedeltas are differences in datetimes, expressed in units such as days, hours, minutes, etc.\n",
    "\n",
    "\n",
    "- We can convert a scalar or Series to timedelta64 with `pd.to_timedelta()`\n",
    "\n",
    "\n",
    "- For example, going back to `new_df` we created earlier, we can add 1 day to each entry in `datetime` like this:"
   ]
  },
  {
   "cell_type": "code",
   "execution_count": null,
   "metadata": {},
   "outputs": [],
   "source": []
  },
  {
   "cell_type": "markdown",
   "metadata": {},
   "source": [
    "- [Here is the documentation for `pd.to_timedelta()`](https://pandas.pydata.org/pandas-docs/stable/reference/api/pandas.to_timedelta.html)\n",
    "\n",
    "\n",
    "- In particular, you can find the valid values of the `unit=...` keyword argument here"
   ]
  },
  {
   "cell_type": "markdown",
   "metadata": {},
   "source": [
    "<hr style=\"border-top: 2px solid gray; margin-top: 1px; margin-bottom: 1px\"></hr>"
   ]
  },
  {
   "cell_type": "markdown",
   "metadata": {},
   "source": [
    "## Problems"
   ]
  },
  {
   "cell_type": "markdown",
   "metadata": {},
   "source": [
    "For the problems below, use the UFO dataset in the DataFrame `df` we created above."
   ]
  },
  {
   "cell_type": "markdown",
   "metadata": {},
   "source": [
    "### Problem 1"
   ]
  },
  {
   "cell_type": "markdown",
   "metadata": {},
   "source": [
    "Add a new column to `df` containing the city for each observation, converted to all uppercase."
   ]
  },
  {
   "cell_type": "code",
   "execution_count": null,
   "metadata": {},
   "outputs": [],
   "source": []
  },
  {
   "cell_type": "markdown",
   "metadata": {},
   "source": [
    "### Problem 2 "
   ]
  },
  {
   "cell_type": "markdown",
   "metadata": {},
   "source": [
    "Add a new column to `df` containing the city and state of each observation, separated by a comma and a space, like this: `Ithaca, NY` "
   ]
  },
  {
   "cell_type": "code",
   "execution_count": null,
   "metadata": {},
   "outputs": [],
   "source": []
  },
  {
   "cell_type": "markdown",
   "metadata": {},
   "source": [
    "### Problem 3"
   ]
  },
  {
   "cell_type": "markdown",
   "metadata": {},
   "source": [
    "We can obtain a frequency table of the colors reported as follows:"
   ]
  },
  {
   "cell_type": "code",
   "execution_count": null,
   "metadata": {},
   "outputs": [],
   "source": [
    "(\n",
    "    df\n",
    "    .groupby(['Colors Reported'])\n",
    "    .agg(\n",
    "        count=('Colors Reported', 'count')\n",
    "    )\n",
    "    .sort_values('count', ascending=False)\n",
    "    .reset_index()\n",
    ")"
   ]
  },
  {
   "cell_type": "markdown",
   "metadata": {},
   "source": [
    "Note that the values in the column `Colors Reported` sometimes contain multiple color names. \n",
    "\n",
    "Drop all observations with missing values. Then filter the remaining observations for those that contain `ORANGE` in the column `Colors Reported`.\n",
    "\n",
    "*Hint.* Remember to use `` ` ` `` to enclose a column name with spaces in the string passed to `.query()`."
   ]
  },
  {
   "cell_type": "code",
   "execution_count": null,
   "metadata": {},
   "outputs": [],
   "source": []
  },
  {
   "cell_type": "markdown",
   "metadata": {},
   "source": [
    "### Problem 4"
   ]
  },
  {
   "cell_type": "markdown",
   "metadata": {},
   "source": [
    "Add a column to `df` containing the day of the week corresponding to the observation date. \n",
    "\n",
    "*Hint.* You may find it useful to add a column containing the observation times as datetime64 values."
   ]
  },
  {
   "cell_type": "code",
   "execution_count": null,
   "metadata": {},
   "outputs": [],
   "source": []
  },
  {
   "cell_type": "markdown",
   "metadata": {},
   "source": [
    "### Problem 5"
   ]
  },
  {
   "cell_type": "markdown",
   "metadata": {},
   "source": [
    "Compute the time between observations when ordered chronologically. \n",
    "\n",
    "*Hint.* Convert the observation times to datetime64 values, then sort the observations based on these values. Use the `.diff()` \"same size\" Series method from Lesson 15 to compute the difference between consecutive rows. [Here's the documentation for `.diff()`.](https://pandas.pydata.org/pandas-docs/stable/reference/api/pandas.Series.diff.html)\n",
    "\n",
    "*Food for thought.* What's the problem with sorting the rows directly based on the values in the `Time` column?"
   ]
  },
  {
   "cell_type": "code",
   "execution_count": null,
   "metadata": {},
   "outputs": [],
   "source": []
  },
  {
   "cell_type": "markdown",
   "metadata": {},
   "source": [
    "<hr style=\"border-top: 2px solid gray; margin-top: 1px; margin-bottom: 1px\"></hr>"
   ]
  },
  {
   "cell_type": "markdown",
   "metadata": {},
   "source": [
    "## Notes and sources"
   ]
  },
  {
   "cell_type": "markdown",
   "metadata": {},
   "source": [
    "- From the [Pandas User Guide](https://pandas.pydata.org/docs/user_guide/index.html):\n",
    "    - [Working with text data](https://pandas.pydata.org/pandas-docs/stable/user_guide/text.html)\n",
    "    - [Time series / date functionality](https://pandas.pydata.org/pandas-docs/stable/user_guide/timeseries.html)\n",
    "    - [Time deltas](https://pandas.pydata.org/pandas-docs/stable/user_guide/timedeltas.html)"
   ]
  }
 ],
 "metadata": {
  "kernelspec": {
   "display_name": "Python 3 (ipykernel)",
   "language": "python",
   "name": "python3"
  },
  "language_info": {
   "codemirror_mode": {
    "name": "ipython",
    "version": 3
   },
   "file_extension": ".py",
   "mimetype": "text/x-python",
   "name": "python",
   "nbconvert_exporter": "python",
   "pygments_lexer": "ipython3",
   "version": "3.11.3"
  }
 },
 "nbformat": 4,
 "nbformat_minor": 4
}
